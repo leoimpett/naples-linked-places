{
 "cells": [
  {
   "cell_type": "code",
   "execution_count": 1,
   "metadata": {},
   "outputs": [],
   "source": [
    "import json\n"
   ]
  },
  {
   "cell_type": "code",
   "execution_count": 23,
   "metadata": {},
   "outputs": [],
   "source": [
    "with open('test_lpf.json') as myfile:\n",
    "    data = json.load(myfile)"
   ]
  },
  {
   "cell_type": "code",
   "execution_count": 24,
   "metadata": {},
   "outputs": [],
   "source": [
    "import csv"
   ]
  },
  {
   "cell_type": "code",
   "execution_count": 52,
   "metadata": {},
   "outputs": [
    {
     "data": {
      "text/plain": [
       "[{'@id': 'http://mygaz.org/places/p_12345',\n",
       "  'depictions': [{'@id': 'https://commons.wikimedia.org/wiki/File:ThamesAtAbingdon.jpg',\n",
       "    'license': 'cc:by-sa/3.0/',\n",
       "    'title': 'The River Thames at Abingdon, Oxfordshire'}],\n",
       "  'descriptions': [{'@id': 'https://en.wikipedia.org/wiki/Abingdon-on-Thames',\n",
       "    'lang': 'en',\n",
       "    'value': '...a historic market town and civil parish...'}],\n",
       "  'geometry': {'geometries': [{'certainty': 'certain',\n",
       "     'citations': [{'@id': 'tgn:7011944',\n",
       "       'label': 'Getty TGN (retrieved 4 May 2018)'}],\n",
       "     'coordinates': [-1.2879, 51.6708],\n",
       "     'type': 'Point',\n",
       "     'when': {'timespans': [{'end': {'in': '1699'},\n",
       "        'start': {'in': '1600'}}]}},\n",
       "    {'certainty': 'uncertain',\n",
       "     'coordinates': [-1.31, 51.64],\n",
       "     'geo_wkt': 'POLYGON ((-1.3077 51.6542, -1.2555 51.6542, -1.2555 51.6908, -1.3077 51.6908, -1.3077 51.6542))',\n",
       "     'type': 'Point',\n",
       "     'when': {'timespans': [{'start': {'in': '1700'}}]}}],\n",
       "   'type': 'GeometryCollection'},\n",
       "  'links': [{'identifier': 'http://vocab.getty.edu/tgn/7011944',\n",
       "    'type': 'exactMatch'},\n",
       "   {'identifier': 'http://www.geonames.org/2657780/', 'type': 'exactMatch'},\n",
       "   {'identifier': 'http://somegaz.org/places/39847', 'type': 'closeMatch'},\n",
       "   {'identifier': 'https://en.wikipedia.org/wiki/Abingdon-on-Thames',\n",
       "    'type': 'primaryTopicOf'},\n",
       "   {'identifier': 'http://www.visionofbritain.org.uk/travellers/Camden/11#pn_3',\n",
       "    'type': 'subjectOf'},\n",
       "   {'identifier': 'https://en.wikipedia.org/wiki/%C3%86bbe_of_Coldingham',\n",
       "    'type': 'seeAlso'}],\n",
       "  'names': [{'citations': [{'@id': 'http://archive.org/details/yeoldegazetteer',\n",
       "      'label': 'Ye Olde Gazetteer (1635)'}],\n",
       "    'lang': 'en',\n",
       "    'toponym': 'Abingdon',\n",
       "    'when': {'timespans': [{'start': {'in': '1600'}}]}},\n",
       "   {'lang': 'en',\n",
       "    'toponym': 'Abingdon-on-Thames',\n",
       "    'when': {'timespans': [{'start': {'in': '1600'}}]}}],\n",
       "  'properties': {'ccodes': ['GB'], 'title': 'Abingdon (UK)'},\n",
       "  'relations': [{'label': 'part of Berkshire (UK)',\n",
       "    'relationTo': 'http://mygaz.org/places/p_9876',\n",
       "    'relationType': 'gvp:broaderPartitive',\n",
       "    'when': {'timespans': [{'end': {'in': '1974'}, 'start': {'in': '1600'}}]}},\n",
       "   {'label': 'part of Oxfordshire (UK)',\n",
       "    'relationTo': 'http://mygaz.org/places/p_3456',\n",
       "    'relationType': 'gvp:broaderPartitive',\n",
       "    'when': {'timespans': [{'start': {'in': '1974'}}]}},\n",
       "   {'certainty': 'certain',\n",
       "    'citations': [{'@id': 'doi:10.1109/5.771073', 'label': 'Harrumph (1923)'}],\n",
       "    'label': 'Linked to Semington by Kennet and Avon Canal',\n",
       "    'relationTo': 'http://mygaz.org/places/p_98765',\n",
       "    'relationType': 'gvp:tgn3000_related_to',\n",
       "    'when': {'timespans': [{'start': {'in': '1790'}}]}}],\n",
       "  'type': 'Feature',\n",
       "  'types': [{'identifier': 'aat:300008375',\n",
       "    'label': 'town',\n",
       "    'sourceLabels': [{'label': 'Market Town', 'lang': 'en'}],\n",
       "    'when': {'timespans': [{'start': {'in': '1600'}}]}}],\n",
       "  'when': {'duration': 'P100Y',\n",
       "   'label': \"sample 'when' w/timespans, periods, duration\",\n",
       "   'periods': [{'@id': 'periodo:p06c6g3whtg',\n",
       "     'name': 'Anglo-Saxon Period, 449-1066'},\n",
       "    {'@id': 'http://chronontology.dainst.org/period/O5r960WKERYr',\n",
       "     'name': 'Anglo-Saxon (culture or style)'}],\n",
       "   'timespans': [{'end': {'in': '1066'}, 'start': {'in': '0676'}}]}}]"
      ]
     },
     "execution_count": 52,
     "metadata": {},
     "output_type": "execute_result"
    }
   ],
   "source": [
    "data['features']"
   ]
  },
  {
   "cell_type": "code",
   "execution_count": 86,
   "metadata": {},
   "outputs": [],
   "source": [
    "raspe_data = []\n",
    "with open('buildings.tab') as csv_file:\n",
    "    csv_reader = csv.reader(csv_file, delimiter='\\t')\n",
    "    line_count = 0\n",
    "    for row in csv_reader:\n",
    "        if int(row[0])<600001:\n",
    "            raspe_data.append(row)"
   ]
  },
  {
   "cell_type": "code",
   "execution_count": 87,
   "metadata": {},
   "outputs": [
    {
     "data": {
      "text/plain": [
       "5993"
      ]
     },
     "execution_count": 87,
     "metadata": {},
     "output_type": "execute_result"
    }
   ],
   "source": [
    "len(raspe_data)"
   ]
  },
  {
   "cell_type": "code",
   "execution_count": 48,
   "metadata": {},
   "outputs": [
    {
     "data": {
      "text/plain": [
       "['402464',\n",
       " 'villa Walpoole',\n",
       " 'base',\n",
       " '',\n",
       " '6:144d',\n",
       " '',\n",
       " '',\n",
       " 'Q4012645 (Villa Walpole) ',\n",
       " '14.26169682 40.87262726']"
      ]
     },
     "execution_count": 48,
     "metadata": {},
     "output_type": "execute_result"
    }
   ],
   "source": [
    "raspe_data[-1]"
   ]
  },
  {
   "cell_type": "code",
   "execution_count": 235,
   "metadata": {},
   "outputs": [],
   "source": [
    "def makePlaceDict(uid, name, coordinates=0):\n",
    "    placedict = {}\n",
    "    placedict['@id'] = \"http://napoli.biblhertz.it/\"+uid\n",
    "    placedict['type']=\"Feature\"\n",
    "    placedict['properties'] = {'title': name}\n",
    "    placedict['when']={\"timespans\":[{\"start\":\"1500\",\"end\":\"2019\"}]}\n",
    "    placedict['names'] = [{\"toponym\":name, \"lang\":\"en\",\"citations\":[{\"label\":\"Atlante di Napoli\",\"@id\":\"http://www.bbc.com/\"}]}]\n",
    "    placedict['descriptions']={'@id': placedict['@id'],\"value\": name,\"lang\":\"it\"}\n",
    "    if coordinates:\n",
    "        [cordx,cordy] = coordinates.split(\" \")\n",
    "        icordx = float(cordx)\n",
    "        icordy = float(cordy)\n",
    "        placedict['geometry']={\n",
    "            \"type\":\"GeometryCollection\",\n",
    "            \"geometries\":[{\n",
    "                    \"type\":\"Point\",\"coordinates\":[icordx,icordy], \n",
    "#                 \"geo_wkt\":\"POINT(\"+cordx+' '+cordy+')',\n",
    "                \"when\": {\"timespans\":[{\"start\":\"1500\",\"end\":\"2019\"}]}\n",
    "            },\n",
    "            {\n",
    "                    \"type\":\"Point\",\"coordinates\":[icordx,icordy], \n",
    "#                 \"geo_wkt\":\"POINT(\"+cordx+' '+cordy+')',\n",
    "                \"when\": {\"timespans\":[{\"start\":\"1500\",\"end\":\"2019\"}]}\n",
    "            }]}\n",
    "    else:\n",
    "        placedict['geometry'] = {\n",
    "  \"type\": \"GeometryCollection\",\n",
    "  \"geometries\": [\"null\"]\n",
    "}\n",
    "    return placedict"
   ]
  },
  {
   "cell_type": "code",
   "execution_count": 236,
   "metadata": {},
   "outputs": [
    {
     "data": {
      "text/plain": [
       "{'@id': 'http://napoli.biblhertz.it/234232',\n",
       " 'geometry': {'geometries': ['null'], 'type': 'GeometryCollection'},\n",
       " 'names': [{'citations': [{'@id': 'http://www.bbc.com/',\n",
       "     'label': 'Atlante di Napoli'}],\n",
       "   'lang': 'en',\n",
       "   'toponym': 'Villa Walpool'}],\n",
       " 'properties': {'title': 'Villa Walpool'},\n",
       " 'type': 'Feature',\n",
       " 'when': {'timespans': [{'end': '2019', 'start': '1500'}]}}"
      ]
     },
     "execution_count": 236,
     "metadata": {},
     "output_type": "execute_result"
    }
   ],
   "source": [
    "\n",
    "makePlaceDict('234232','Villa Walpool')"
   ]
  },
  {
   "cell_type": "code",
   "execution_count": 248,
   "metadata": {},
   "outputs": [],
   "source": [
    "myplacedicts = []\n",
    "for rdat in raspe_data:\n",
    "    if len(rdat) > 8:\n",
    "        coordstr = rdat[8]\n",
    "        if(len(coordstr.split('.'))>3):\n",
    "            coordstr = coordstr.replace('.',',',2).split('.')[0].replace(',','.')\n",
    "        myplacedicts.append(makePlaceDict(rdat[0],rdat[1],coordstr) )\n",
    "#     else:\n",
    "#         myplacedicts.append(makePlaceDict(rdat[0],rdat[1]) )\n",
    "        "
   ]
  },
  {
   "cell_type": "code",
   "execution_count": 249,
   "metadata": {},
   "outputs": [],
   "source": [
    "myLData = data.copy()\n",
    "myLData['features'] = []"
   ]
  },
  {
   "cell_type": "code",
   "execution_count": 250,
   "metadata": {},
   "outputs": [
    {
     "data": {
      "text/plain": [
       "{'@context': 'https://raw.githubusercontent.com/LinkedPasts/linked-places/master/linkedplaces-context-v1.jsonld',\n",
       " 'features': [],\n",
       " 'type': 'FeatureCollection'}"
      ]
     },
     "execution_count": 250,
     "metadata": {},
     "output_type": "execute_result"
    }
   ],
   "source": [
    "myLData"
   ]
  },
  {
   "cell_type": "code",
   "execution_count": 251,
   "metadata": {},
   "outputs": [],
   "source": [
    "myLData['features'] = myplacedicts"
   ]
  },
  {
   "cell_type": "code",
   "execution_count": 252,
   "metadata": {
    "scrolled": false
   },
   "outputs": [
    {
     "data": {
      "text/plain": [
       "302"
      ]
     },
     "execution_count": 252,
     "metadata": {},
     "output_type": "execute_result"
    }
   ],
   "source": [
    "len(myLData['features'])"
   ]
  },
  {
   "cell_type": "code",
   "execution_count": 253,
   "metadata": {},
   "outputs": [],
   "source": [
    "\n",
    "with open('napoli_lpf_small.json', 'w') as outfile:\n",
    "    json.dump(myLData, outfile)"
   ]
  },
  {
   "cell_type": "code",
   "execution_count": null,
   "metadata": {},
   "outputs": [],
   "source": []
  },
  {
   "cell_type": "code",
   "execution_count": null,
   "metadata": {},
   "outputs": [],
   "source": []
  },
  {
   "cell_type": "code",
   "execution_count": null,
   "metadata": {},
   "outputs": [],
   "source": []
  },
  {
   "cell_type": "code",
   "execution_count": null,
   "metadata": {},
   "outputs": [],
   "source": []
  }
 ],
 "metadata": {
  "kernelspec": {
   "display_name": "Python 3",
   "language": "python",
   "name": "python3"
  },
  "language_info": {
   "codemirror_mode": {
    "name": "ipython",
    "version": 3
   },
   "file_extension": ".py",
   "mimetype": "text/x-python",
   "name": "python",
   "nbconvert_exporter": "python",
   "pygments_lexer": "ipython3",
   "version": "3.7.3"
  }
 },
 "nbformat": 4,
 "nbformat_minor": 2
}
